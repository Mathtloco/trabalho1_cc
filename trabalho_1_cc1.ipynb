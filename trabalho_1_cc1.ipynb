{
 "cells": [
  {
   "cell_type": "markdown",
   "metadata": {},
   "source": [
    "*Primeira Questão*\n",
    "\n",
    "A mantissa tem que estar nesse intervalo 1≤m<β porque se for menor que 1, não estaria normalizada porque o primneiro dígito seria zero. E se fosse maior ou igual que β, ele iria ser divido por β para reduzir seu valor e aumentar o expoente correspondente, que também não seria normalizado."
   ]
  },
  {
   "cell_type": "markdown",
   "metadata": {},
   "source": [
    "*Segunda Questão*\n",
    "\n",
    "a)Quantos números são represenáveis?\n",
    "\n",
    "Como a precisão é 3 a mantissa terá 3 bits, sendo o primeiro bit normalizado, e os dois seguintes podem variar de até 4 possíveis combinações para a mantissa. (2²=4)\n",
    "\n",
    "O intervalo do E (expoente) varia ente [L,U]. ([-1,1]).\n",
    "\n",
    "Para calcular todas as variações representáveis da mantissa fica o cálculo: 4 x 3 = 12.\n",
    "\n",
    "b)Qual o UFL e o OFL?\n",
    "\n",
    "L=-1 , o β=2 e p = 3\n",
    "\n",
    "o UFL: 1 x 2⁻¹ = 0,5.\n",
    "\n",
    "U = 1\n",
    "\n",
    "o OFL: (1 + 1 × 2 − 1 + 1 × 2 − 2)×2=1,75 × 2 = 3,5\n"
   ]
  },
  {
   "cell_type": "markdown",
   "metadata": {},
   "source": [
    "c)"
   ]
  },
  {
   "cell_type": "code",
   "execution_count": null,
   "metadata": {
    "vscode": {
     "languageId": "plaintext"
    }
   },
   "outputs": [],
   "source": [
    "import numpy as np\n",
    "import matplotlib.pyplot as plt\n",
    "\n",
    "# Definindo os parâmetros\n",
    "beta = 2  # Base\n",
    "p = 3     # Precisão (número de dígitos)\n",
    "L = -1    # Limite inferior do expoente\n",
    "U = 1     # Limite superior do expoente\n",
    "\n",
    "# Gerando mantissas possíveis (normalizadas: 1, xx em binário)\n",
    "mantissas = [1 + i * beta**(-1) + j * beta**(-2) for i in [0, 1] for j in [0, 1]]\n",
    "\n",
    "# Gerando números representáveis (mantissa * beta**expoente)\n",
    "numeros = [m * beta**e for e in range(L, U+1) for m in mantissas]\n",
    "\n",
    "# Incluindo negativos\n",
    "numeros_negativos = [-n for n in numeros]\n",
    "\n",
    "# Juntando os números positivos e negativos\n",
    "todos_numeros = sorted(numeros + numeros_negativos)\n",
    "\n",
    "# Plotando a distribuição dos números na reta real\n",
    "plt.figure(figsize=(10, 2))\n",
    "plt.plot(todos_numeros, np.zeros_like(todos_numeros), 'o', color='b')\n",
    "plt.title(\"Distribuição dos Números Representáveis\")\n",
    "plt.yticks([])\n",
    "plt.grid(True)\n",
    "plt.show()\n",
    "\n",
    "print(\"Números representáveis:\", todos_numeros)\n"
   ]
  },
  {
   "cell_type": "markdown",
   "metadata": {},
   "source": [
    "*Terceira Questão*"
   ]
  },
  {
   "cell_type": "code",
   "execution_count": null,
   "metadata": {
    "vscode": {
     "languageId": "plaintext"
    }
   },
   "outputs": [],
   "source": [
    "# Exemplo de cancelamento numérico\n",
    "import numpy as np\n",
    "\n",
    "def func(x):\n",
    "    return (1 - np.sqrt(1 - x**2)) / x**2\n",
    "\n",
    "# Gerando valores pequenos de x\n",
    "x_values = np.logspace(-1, -10, num=10)\n",
    "\n",
    "# Calculando os resultados com e sem cancelamento\n",
    "results_with_cancel = func(x_values)\n",
    "results_no_cancel = x_values / (1 + np.sqrt(1 - x_values**2))  # Fórmula sem cancelamento\n",
    "\n",
    "# Comparando os desvios padrão\n",
    "std_with_cancel = np.std(results_with_cancel)\n",
    "std_no_cancel = np.std(results_no_cancel)\n",
    "\n",
    "print(\"Desvio padrão com cancelamento:\", std_with_cancel)\n",
    "print(\"Desvio padrão sem cancelamento:\", std_no_cancel)\n",
    "print(\"Diferença entre eles:\", std_with_cancel - std_no_cancel)\n"
   ]
  },
  {
   "cell_type": "markdown",
   "metadata": {},
   "source": [
    "*Quarta Questão*"
   ]
  },
  {
   "cell_type": "code",
   "execution_count": null,
   "metadata": {
    "vscode": {
     "languageId": "plaintext"
    }
   },
   "outputs": [],
   "source": [
    "# Aproximação de epsilon usando o truque do exercício 4\n",
    "epsilon_mach = abs(3 * (4/3 - 1) - 1)\n",
    "print(\"Aproximação de epsilon_mach:\", epsilon_mach)\n",
    "\n",
    "# Testando outras expressões\n",
    "epsilon_test_1 = abs(4 * (5/4 - 1) - 1)\n",
    "epsilon_test_2 = abs(5 * (6/5 - 1) - 1)\n",
    "\n",
    "print(\"Testando outras aproximações:\")\n",
    "print(\"|4 * (5/4 - 1) - 1| =\", epsilon_test_1)\n",
    "print(\"|5 * (6/5 - 1) - 1| =\", epsilon_test_2)\n"
   ]
  },
  {
   "cell_type": "markdown",
   "metadata": {},
   "source": [
    "*Pesquise na web:*\n"
   ]
  }
 ],
 "metadata": {
  "language_info": {
   "name": "python"
  }
 },
 "nbformat": 4,
 "nbformat_minor": 2
}
